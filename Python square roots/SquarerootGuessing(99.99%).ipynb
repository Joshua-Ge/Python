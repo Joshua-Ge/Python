{
  "cells": [
    {
      "cell_type": "code",
      "execution_count": 7,
      "metadata": {},
      "outputs": [
        {
          "name": "stdout",
          "output_type": "stream",
          "text": [
            "Requirement already satisfied: pip in c:\\users\\joshu\\appdata\\local\\programs\\python\\python313\\lib\\site-packages (24.3.1)\n",
            "Collecting pip\n",
            "  Using cached pip-25.1.1-py3-none-any.whl.metadata (3.6 kB)\n",
            "Using cached pip-25.1.1-py3-none-any.whl (1.8 MB)\n",
            "Installing collected packages: pip\n",
            "  Attempting uninstall: pip\n",
            "    Found existing installation: pip 24.3.1\n",
            "    Uninstalling pip-24.3.1:\n",
            "      Successfully uninstalled pip-24.3.1\n",
            "Successfully installed pip-25.1.1\n",
            "Note: you may need to restart the kernel to use updated packages.\n"
          ]
        },
        {
          "name": "stderr",
          "output_type": "stream",
          "text": [
            "  WARNING: The scripts pip.exe, pip3.13.exe and pip3.exe are installed in 'c:\\Users\\joshu\\AppData\\Local\\Programs\\Python\\Python313\\Scripts' which is not on PATH.\n",
            "  Consider adding this directory to PATH or, if you prefer to suppress this warning, use --no-warn-script-location.\n"
          ]
        },
        {
          "name": "stdout",
          "output_type": "stream",
          "text": [
            "Requirement already satisfied: numpy in c:\\users\\joshu\\appdata\\local\\programs\\python\\python313\\lib\\site-packages (2.3.0)\n",
            "Note: you may need to restart the kernel to use updated packages.\n",
            "Requirement already satisfied: pandas in c:\\users\\joshu\\appdata\\local\\programs\\python\\python313\\lib\\site-packages (2.3.0)\n",
            "Requirement already satisfied: numpy>=1.26.0 in c:\\users\\joshu\\appdata\\local\\programs\\python\\python313\\lib\\site-packages (from pandas) (2.3.0)\n",
            "Requirement already satisfied: python-dateutil>=2.8.2 in c:\\users\\joshu\\appdata\\roaming\\python\\python313\\site-packages (from pandas) (2.9.0.post0)\n",
            "Requirement already satisfied: pytz>=2020.1 in c:\\users\\joshu\\appdata\\local\\programs\\python\\python313\\lib\\site-packages (from pandas) (2025.2)\n",
            "Requirement already satisfied: tzdata>=2022.7 in c:\\users\\joshu\\appdata\\local\\programs\\python\\python313\\lib\\site-packages (from pandas) (2025.2)\n",
            "Requirement already satisfied: six>=1.5 in c:\\users\\joshu\\appdata\\roaming\\python\\python313\\site-packages (from python-dateutil>=2.8.2->pandas) (1.17.0)\n",
            "Note: you may need to restart the kernel to use updated packages.\n",
            "Requirement already satisfied: matplotlib in c:\\users\\joshu\\appdata\\local\\programs\\python\\python313\\lib\\site-packages (3.10.3)\n",
            "Requirement already satisfied: contourpy>=1.0.1 in c:\\users\\joshu\\appdata\\local\\programs\\python\\python313\\lib\\site-packages (from matplotlib) (1.3.2)\n",
            "Requirement already satisfied: cycler>=0.10 in c:\\users\\joshu\\appdata\\local\\programs\\python\\python313\\lib\\site-packages (from matplotlib) (0.12.1)\n",
            "Requirement already satisfied: fonttools>=4.22.0 in c:\\users\\joshu\\appdata\\local\\programs\\python\\python313\\lib\\site-packages (from matplotlib) (4.58.4)\n",
            "Requirement already satisfied: kiwisolver>=1.3.1 in c:\\users\\joshu\\appdata\\local\\programs\\python\\python313\\lib\\site-packages (from matplotlib) (1.4.8)\n",
            "Requirement already satisfied: numpy>=1.23 in c:\\users\\joshu\\appdata\\local\\programs\\python\\python313\\lib\\site-packages (from matplotlib) (2.3.0)\n",
            "Requirement already satisfied: packaging>=20.0 in c:\\users\\joshu\\appdata\\roaming\\python\\python313\\site-packages (from matplotlib) (25.0)\n",
            "Requirement already satisfied: pillow>=8 in c:\\users\\joshu\\appdata\\local\\programs\\python\\python313\\lib\\site-packages (from matplotlib) (11.2.1)\n",
            "Requirement already satisfied: pyparsing>=2.3.1 in c:\\users\\joshu\\appdata\\local\\programs\\python\\python313\\lib\\site-packages (from matplotlib) (3.2.3)\n",
            "Requirement already satisfied: python-dateutil>=2.7 in c:\\users\\joshu\\appdata\\roaming\\python\\python313\\site-packages (from matplotlib) (2.9.0.post0)\n",
            "Requirement already satisfied: six>=1.5 in c:\\users\\joshu\\appdata\\roaming\\python\\python313\\site-packages (from python-dateutil>=2.7->matplotlib) (1.17.0)\n",
            "Note: you may need to restart the kernel to use updated packages.\n",
            "Collecting scikit-learn\n",
            "  Using cached scikit_learn-1.7.0-cp313-cp313-win_amd64.whl.metadata (14 kB)\n",
            "Requirement already satisfied: numpy>=1.22.0 in c:\\users\\joshu\\appdata\\local\\programs\\python\\python313\\lib\\site-packages (from scikit-learn) (2.3.0)\n",
            "Requirement already satisfied: scipy>=1.8.0 in c:\\users\\joshu\\appdata\\local\\programs\\python\\python313\\lib\\site-packages (from scikit-learn) (1.15.3)\n",
            "Collecting joblib>=1.2.0 (from scikit-learn)\n",
            "  Using cached joblib-1.5.1-py3-none-any.whl.metadata (5.6 kB)\n",
            "Requirement already satisfied: threadpoolctl>=3.1.0 in c:\\users\\joshu\\appdata\\local\\programs\\python\\python313\\lib\\site-packages (from scikit-learn) (3.6.0)\n",
            "Using cached scikit_learn-1.7.0-cp313-cp313-win_amd64.whl (10.7 MB)\n",
            "Using cached joblib-1.5.1-py3-none-any.whl (307 kB)\n",
            "Installing collected packages: joblib, scikit-learn\n",
            "\n",
            "   ---------------------------------------- 0/2 [joblib]\n",
            "   ---------------------------------------- 0/2 [joblib]\n",
            "   ---------------------------------------- 0/2 [joblib]\n",
            "   ---------------------------------------- 0/2 [joblib]\n",
            "   ---------------------------------------- 0/2 [joblib]\n",
            "   ---------------------------------------- 0/2 [joblib]\n",
            "   ---------------------------------------- 0/2 [joblib]\n",
            "   ---------------------------------------- 0/2 [joblib]\n",
            "   ---------------------------------------- 0/2 [joblib]\n",
            "   ---------------------------------------- 0/2 [joblib]\n",
            "   ---------------------------------------- 0/2 [joblib]\n",
            "   ---------------------------------------- 0/2 [joblib]\n",
            "   ---------------------------------------- 0/2 [joblib]\n",
            "   ---------------------------------------- 0/2 [joblib]\n",
            "   ---------------------------------------- 0/2 [joblib]\n",
            "   -------------------- ------------------- 1/2 [scikit-learn]\n",
            "   -------------------- ------------------- 1/2 [scikit-learn]\n",
            "   -------------------- ------------------- 1/2 [scikit-learn]\n",
            "   -------------------- ------------------- 1/2 [scikit-learn]\n",
            "   -------------------- ------------------- 1/2 [scikit-learn]\n",
            "   -------------------- ------------------- 1/2 [scikit-learn]\n",
            "   -------------------- ------------------- 1/2 [scikit-learn]\n",
            "   -------------------- ------------------- 1/2 [scikit-learn]\n",
            "   -------------------- ------------------- 1/2 [scikit-learn]\n",
            "   -------------------- ------------------- 1/2 [scikit-learn]\n",
            "   -------------------- ------------------- 1/2 [scikit-learn]\n",
            "   -------------------- ------------------- 1/2 [scikit-learn]\n",
            "   -------------------- ------------------- 1/2 [scikit-learn]\n",
            "   -------------------- ------------------- 1/2 [scikit-learn]\n",
            "   -------------------- ------------------- 1/2 [scikit-learn]\n",
            "   -------------------- ------------------- 1/2 [scikit-learn]\n",
            "   -------------------- ------------------- 1/2 [scikit-learn]\n",
            "   -------------------- ------------------- 1/2 [scikit-learn]\n",
            "   -------------------- ------------------- 1/2 [scikit-learn]\n",
            "   -------------------- ------------------- 1/2 [scikit-learn]\n",
            "   -------------------- ------------------- 1/2 [scikit-learn]\n",
            "   -------------------- ------------------- 1/2 [scikit-learn]\n",
            "   -------------------- ------------------- 1/2 [scikit-learn]\n",
            "   -------------------- ------------------- 1/2 [scikit-learn]\n",
            "   -------------------- ------------------- 1/2 [scikit-learn]\n",
            "   -------------------- ------------------- 1/2 [scikit-learn]\n",
            "   -------------------- ------------------- 1/2 [scikit-learn]\n",
            "   -------------------- ------------------- 1/2 [scikit-learn]\n",
            "   -------------------- ------------------- 1/2 [scikit-learn]\n",
            "   -------------------- ------------------- 1/2 [scikit-learn]\n",
            "   -------------------- ------------------- 1/2 [scikit-learn]\n",
            "   -------------------- ------------------- 1/2 [scikit-learn]\n",
            "   -------------------- ------------------- 1/2 [scikit-learn]\n",
            "   -------------------- ------------------- 1/2 [scikit-learn]\n",
            "   -------------------- ------------------- 1/2 [scikit-learn]\n",
            "   -------------------- ------------------- 1/2 [scikit-learn]\n",
            "   -------------------- ------------------- 1/2 [scikit-learn]\n",
            "   -------------------- ------------------- 1/2 [scikit-learn]\n",
            "   -------------------- ------------------- 1/2 [scikit-learn]\n",
            "   -------------------- ------------------- 1/2 [scikit-learn]\n",
            "   -------------------- ------------------- 1/2 [scikit-learn]\n",
            "   -------------------- ------------------- 1/2 [scikit-learn]\n",
            "   -------------------- ------------------- 1/2 [scikit-learn]\n",
            "   -------------------- ------------------- 1/2 [scikit-learn]\n",
            "   -------------------- ------------------- 1/2 [scikit-learn]\n",
            "   -------------------- ------------------- 1/2 [scikit-learn]\n",
            "   -------------------- ------------------- 1/2 [scikit-learn]\n",
            "   -------------------- ------------------- 1/2 [scikit-learn]\n",
            "   -------------------- ------------------- 1/2 [scikit-learn]\n",
            "   -------------------- ------------------- 1/2 [scikit-learn]\n",
            "   -------------------- ------------------- 1/2 [scikit-learn]\n",
            "   -------------------- ------------------- 1/2 [scikit-learn]\n",
            "   -------------------- ------------------- 1/2 [scikit-learn]\n",
            "   -------------------- ------------------- 1/2 [scikit-learn]\n",
            "   -------------------- ------------------- 1/2 [scikit-learn]\n",
            "   -------------------- ------------------- 1/2 [scikit-learn]\n",
            "   -------------------- ------------------- 1/2 [scikit-learn]\n",
            "   -------------------- ------------------- 1/2 [scikit-learn]\n",
            "   -------------------- ------------------- 1/2 [scikit-learn]\n",
            "   -------------------- ------------------- 1/2 [scikit-learn]\n",
            "   -------------------- ------------------- 1/2 [scikit-learn]\n",
            "   -------------------- ------------------- 1/2 [scikit-learn]\n",
            "   -------------------- ------------------- 1/2 [scikit-learn]\n",
            "   -------------------- ------------------- 1/2 [scikit-learn]\n",
            "   -------------------- ------------------- 1/2 [scikit-learn]\n",
            "   -------------------- ------------------- 1/2 [scikit-learn]\n",
            "   -------------------- ------------------- 1/2 [scikit-learn]\n",
            "   -------------------- ------------------- 1/2 [scikit-learn]\n",
            "   -------------------- ------------------- 1/2 [scikit-learn]\n",
            "   -------------------- ------------------- 1/2 [scikit-learn]\n",
            "   -------------------- ------------------- 1/2 [scikit-learn]\n",
            "   -------------------- ------------------- 1/2 [scikit-learn]\n",
            "   -------------------- ------------------- 1/2 [scikit-learn]\n",
            "   -------------------- ------------------- 1/2 [scikit-learn]\n",
            "   -------------------- ------------------- 1/2 [scikit-learn]\n",
            "   -------------------- ------------------- 1/2 [scikit-learn]\n",
            "   -------------------- ------------------- 1/2 [scikit-learn]\n",
            "   -------------------- ------------------- 1/2 [scikit-learn]\n",
            "   -------------------- ------------------- 1/2 [scikit-learn]\n",
            "   -------------------- ------------------- 1/2 [scikit-learn]\n",
            "   -------------------- ------------------- 1/2 [scikit-learn]\n",
            "   -------------------- ------------------- 1/2 [scikit-learn]\n",
            "   -------------------- ------------------- 1/2 [scikit-learn]\n",
            "   -------------------- ------------------- 1/2 [scikit-learn]\n",
            "   -------------------- ------------------- 1/2 [scikit-learn]\n",
            "   -------------------- ------------------- 1/2 [scikit-learn]\n",
            "   -------------------- ------------------- 1/2 [scikit-learn]\n",
            "   -------------------- ------------------- 1/2 [scikit-learn]\n",
            "   -------------------- ------------------- 1/2 [scikit-learn]\n",
            "   -------------------- ------------------- 1/2 [scikit-learn]\n",
            "   -------------------- ------------------- 1/2 [scikit-learn]\n",
            "   -------------------- ------------------- 1/2 [scikit-learn]\n",
            "   -------------------- ------------------- 1/2 [scikit-learn]\n",
            "   -------------------- ------------------- 1/2 [scikit-learn]\n",
            "   -------------------- ------------------- 1/2 [scikit-learn]\n",
            "   -------------------- ------------------- 1/2 [scikit-learn]\n",
            "   -------------------- ------------------- 1/2 [scikit-learn]\n",
            "   -------------------- ------------------- 1/2 [scikit-learn]\n",
            "   -------------------- ------------------- 1/2 [scikit-learn]\n",
            "   -------------------- ------------------- 1/2 [scikit-learn]\n",
            "   -------------------- ------------------- 1/2 [scikit-learn]\n",
            "   -------------------- ------------------- 1/2 [scikit-learn]\n",
            "   -------------------- ------------------- 1/2 [scikit-learn]\n",
            "   -------------------- ------------------- 1/2 [scikit-learn]\n",
            "   -------------------- ------------------- 1/2 [scikit-learn]\n",
            "   -------------------- ------------------- 1/2 [scikit-learn]\n",
            "   -------------------- ------------------- 1/2 [scikit-learn]\n",
            "   -------------------- ------------------- 1/2 [scikit-learn]\n",
            "   -------------------- ------------------- 1/2 [scikit-learn]\n",
            "   -------------------- ------------------- 1/2 [scikit-learn]\n",
            "   -------------------- ------------------- 1/2 [scikit-learn]\n",
            "   -------------------- ------------------- 1/2 [scikit-learn]\n",
            "   -------------------- ------------------- 1/2 [scikit-learn]\n",
            "   -------------------- ------------------- 1/2 [scikit-learn]\n",
            "   -------------------- ------------------- 1/2 [scikit-learn]\n",
            "   -------------------- ------------------- 1/2 [scikit-learn]\n",
            "   -------------------- ------------------- 1/2 [scikit-learn]\n",
            "   -------------------- ------------------- 1/2 [scikit-learn]\n",
            "   -------------------- ------------------- 1/2 [scikit-learn]\n",
            "   -------------------- ------------------- 1/2 [scikit-learn]\n",
            "   -------------------- ------------------- 1/2 [scikit-learn]\n",
            "   -------------------- ------------------- 1/2 [scikit-learn]\n",
            "   -------------------- ------------------- 1/2 [scikit-learn]\n",
            "   -------------------- ------------------- 1/2 [scikit-learn]\n",
            "   -------------------- ------------------- 1/2 [scikit-learn]\n",
            "   -------------------- ------------------- 1/2 [scikit-learn]\n",
            "   -------------------- ------------------- 1/2 [scikit-learn]\n",
            "   -------------------- ------------------- 1/2 [scikit-learn]\n",
            "   ---------------------------------------- 2/2 [scikit-learn]\n",
            "\n",
            "Successfully installed joblib-1.5.1 scikit-learn-1.7.0\n",
            "Note: you may need to restart the kernel to use updated packages.\n",
            "Note: you may need to restart the kernel to use updated packages.\n"
          ]
        },
        {
          "name": "stderr",
          "output_type": "stream",
          "text": [
            "ERROR: Could not find a version that satisfies the requirement sklearn.model_selection (from versions: none)\n",
            "ERROR: No matching distribution found for sklearn.model_selection\n"
          ]
        },
        {
          "name": "stdout",
          "output_type": "stream",
          "text": [
            "Note: you may need to restart the kernel to use updated packages.\n"
          ]
        },
        {
          "name": "stderr",
          "output_type": "stream",
          "text": [
            "ERROR: Could not find a version that satisfies the requirement sklearn.metrics (from versions: none)\n",
            "ERROR: No matching distribution found for sklearn.metrics\n"
          ]
        }
      ],
      "source": [
        "%pip install --upgrade pip\n",
        "%pip install numpy\n",
        "%pip install pandas\n",
        "%pip install matplotlib\n",
        "%pip install scikit-learn\n",
        "%pip install sklearn.model_selection\n",
        "%pip install sklearn.metrics\n"
      ]
    },
    {
      "cell_type": "code",
      "execution_count": 8,
      "metadata": {
        "id": "lLYh9Keu3CK3"
      },
      "outputs": [],
      "source": [
        "import numpy as np\n",
        "import pandas as pd\n",
        "import matplotlib.pyplot as plt\n",
        "from sklearn.ensemble import RandomForestRegressor\n",
        "from sklearn.model_selection import train_test_split\n",
        "from sklearn.metrics import mean_squared_error"
      ]
    },
    {
      "cell_type": "code",
      "execution_count": 9,
      "metadata": {
        "id": "PhXICT975vkx"
      },
      "outputs": [
        {
          "ename": "SyntaxError",
          "evalue": "(unicode error) 'unicodeescape' codec can't decode bytes in position 2-3: truncated \\UXXXXXXXX escape (193294625.py, line 1)",
          "output_type": "error",
          "traceback": [
            "  \u001b[36mCell\u001b[39m\u001b[36m \u001b[39m\u001b[32mIn[9]\u001b[39m\u001b[32m, line 1\u001b[39m\n\u001b[31m    \u001b[39m\u001b[31murl = \"c:\\Users\\joshu\\OneDrive\\Desktop\\Coding\\Python square roots\\square_roots.csv\"\u001b[39m\n          ^\n\u001b[31mSyntaxError\u001b[39m\u001b[31m:\u001b[39m (unicode error) 'unicodeescape' codec can't decode bytes in position 2-3: truncated \\UXXXXXXXX escape\n"
          ]
        }
      ],
      "source": [
        "url = \"c:\\Users\\joshu\\OneDrive\\Desktop\\Coding\\Python square roots\\square_roots.csv\"\n",
        "data = pd.read_csv(url)"
      ]
    },
    {
      "cell_type": "code",
      "execution_count": null,
      "metadata": {
        "id": "E6bVrt2q6KdF"
      },
      "outputs": [],
      "source": [
        "datahead = data.head()\n",
        "print(datahead)\n",
        "datadescribe = data.describe()\n",
        "print(datadescribe)"
      ]
    },
    {
      "cell_type": "code",
      "execution_count": null,
      "metadata": {
        "id": "oNFfhHvO69wp"
      },
      "outputs": [],
      "source": [
        "features = data[['Number']]\n",
        "target = data[['Square Root']]"
      ]
    },
    {
      "cell_type": "code",
      "execution_count": null,
      "metadata": {
        "id": "_Mfbfmc17MEo"
      },
      "outputs": [],
      "source": [
        "X_train, X_test, y_train, y_test = train_test_split(features, target, test_size=0.2, random_state=42)"
      ]
    },
    {
      "cell_type": "code",
      "execution_count": null,
      "metadata": {
        "id": "PXG87s607S-1"
      },
      "outputs": [],
      "source": [
        "model = RandomForestRegressor()\n",
        "model.fit(X_train, y_train)"
      ]
    },
    {
      "cell_type": "code",
      "execution_count": null,
      "metadata": {
        "id": "lWbgtsOP7YBW"
      },
      "outputs": [],
      "source": [
        "print(\"Model accuracy:\", model.score(X_test, y_test))"
      ]
    },
    {
      "cell_type": "code",
      "execution_count": null,
      "metadata": {
        "id": "t74eJ3lw7jV7"
      },
      "outputs": [],
      "source": [
        "plt.figure(figsize=(10, 6))\n",
        "plt.scatter(X_test, y_test, label='Actual Square Roots', alpha=0.6)\n",
        "plt.plot(X_test, model.predict(X_test), color='red', label='Regression Line')\n",
        "plt.title('Predicting Square Roots with Linear Regression')\n",
        "plt.xlabel('Input Number')\n",
        "plt.ylabel('Square Root')\n",
        "plt.legend()\n",
        "plt.grid(True)\n",
        "plt.show()"
      ]
    },
    {
      "cell_type": "code",
      "execution_count": null,
      "metadata": {
        "id": "3UJ-7WCR_RTF"
      },
      "outputs": [],
      "source": [
        "from sklearn.metrics import mean_squared_error, r2_score\n",
        "\n",
        "predictions = model.predict(X_test)\n",
        "\n",
        "mse = mean_squared_error(y_test, predictions)\n",
        "r2 = r2_score(y_test, predictions)\n",
        "\n",
        "print(\"MSE:\", mse)\n",
        "print(\"R² Score:\", r2)"
      ]
    },
    {
      "cell_type": "code",
      "execution_count": null,
      "metadata": {
        "id": "JYIfbOGGAa8A"
      },
      "outputs": [],
      "source": [
        "while True:\n",
        "    user_input = input(\"Enter a number to find its square root (or 'q' to quit): \")\n",
        "\n",
        "    if user_input.lower() == 'q':\n",
        "        print(\"Exiting. Thanks for playing!\")\n",
        "        break\n",
        "\n",
        "    try:\n",
        "        number = float(user_input)\n",
        "        prediction = model.predict([[number]])[0]\n",
        "        actual = number ** 0.5\n",
        "        error = abs(prediction - actual)\n",
        "\n",
        "        print(f\"🤖 Model's guess: {prediction}\")\n",
        "        print(f\"✅ Actual square root: {actual}\")\n",
        "        print(f\"📉 Error: {error}\\n\")\n",
        "\n",
        "    except ValueError:\n",
        "        print(\"⚠️ Please enter a valid number.\\n\")"
      ]
    }
  ],
  "metadata": {
    "colab": {
      "provenance": []
    },
    "kernelspec": {
      "display_name": "Python 3",
      "name": "python3"
    },
    "language_info": {
      "codemirror_mode": {
        "name": "ipython",
        "version": 3
      },
      "file_extension": ".py",
      "mimetype": "text/x-python",
      "name": "python",
      "nbconvert_exporter": "python",
      "pygments_lexer": "ipython3",
      "version": "3.13.2"
    }
  },
  "nbformat": 4,
  "nbformat_minor": 0
}
